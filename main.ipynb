{
 "cells": [
  {
   "cell_type": "code",
   "execution_count": 2,
   "metadata": {},
   "outputs": [],
   "source": [
    "import os\n",
    "import main as main\n",
    "from PIL import Image\n",
    "import numpy as np\n",
    "import matplotlib.pyplot as plt"
   ]
  },
  {
   "cell_type": "code",
   "execution_count": 6,
   "metadata": {},
   "outputs": [
    {
     "data": {
      "text/plain": [
       "['/media/nebula/300E01340E00F49E/conversando_com_linux/imagem 10 slices',\n",
       " '/media/nebula/300E01340E00F49E/conversando_com_linux/imagem 20 slices',\n",
       " '/media/nebula/300E01340E00F49E/conversando_com_linux/imagem 25 slices',\n",
       " '/media/nebula/300E01340E00F49E/conversando_com_linux/imagem 30 slices',\n",
       " '/media/nebula/300E01340E00F49E/conversando_com_linux/imagem 5 slices',\n",
       " '/media/nebula/300E01340E00F49E/conversando_com_linux/imagem manual']"
      ]
     },
     "execution_count": 6,
     "metadata": {},
     "output_type": "execute_result"
    }
   ],
   "source": [
    "main_paths = '/media/nebula/300E01340E00F49E/conversando_com_linux'\n",
    "main.list_with_full_path(main_paths)"
   ]
  },
  {
   "cell_type": "code",
   "execution_count": 7,
   "metadata": {},
   "outputs": [],
   "source": [
    "segmentadas = '/media/nebula/300E01340E00F49E/conversando_com_linux/imagem manual'\n",
    "slices_path = '/media/nebula/300E01340E00F49E/conversando_com_linux/imagem 5 slices'"
   ]
  },
  {
   "cell_type": "code",
   "execution_count": 8,
   "metadata": {},
   "outputs": [],
   "source": [
    "slices = main.list_and_order(slices_path)\n",
    "segmentadas = main.list_and_order(segmentadas)"
   ]
  },
  {
   "cell_type": "code",
   "execution_count": 11,
   "metadata": {},
   "outputs": [],
   "source": [
    "calc = []\n",
    "for img_seg, img_slice in zip(segmentadas, slices):\n",
    "    img_seg_open = main.wrapper_to_numpy_array(img_seg)\n",
    "    img_slice_open = main.wrapper_to_numpy_array(img_slice)\n",
    "    dice = main.calc_dice(img_seg_open, img_slice_open)\n",
    "    if dice != 0:\n",
    "        calc.append(dice)"
   ]
  },
  {
   "cell_type": "code",
   "execution_count": 12,
   "metadata": {},
   "outputs": [
    {
     "data": {
      "text/plain": [
       "[0.08227669766131304, 0.1411646080161331, 0.1237207186718217]"
      ]
     },
     "execution_count": 12,
     "metadata": {},
     "output_type": "execute_result"
    }
   ],
   "source": [
    "calc[0: 3]"
   ]
  }
 ],
 "metadata": {
  "kernelspec": {
   "display_name": "uerj",
   "language": "python",
   "name": "python3"
  },
  "language_info": {
   "codemirror_mode": {
    "name": "ipython",
    "version": 3
   },
   "file_extension": ".py",
   "mimetype": "text/x-python",
   "name": "python",
   "nbconvert_exporter": "python",
   "pygments_lexer": "ipython3",
   "version": "3.12.0"
  },
  "orig_nbformat": 4
 },
 "nbformat": 4,
 "nbformat_minor": 2
}
